{
 "cells": [
  {
   "cell_type": "markdown",
   "metadata": {},
   "source": [
    "# Stock Market Indicators"
   ]
  },
  {
   "cell_type": "markdown",
   "metadata": {},
   "source": [
    "### Initialization"
   ]
  },
  {
   "cell_type": "code",
   "execution_count": null,
   "metadata": {},
   "outputs": [],
   "source": [
    "import os \n",
    "import pandas as pd\n",
    "import numpy as np \n",
    "import datetime as dt\n",
    "import matplotlib.pyplot as plt\n",
    "import getData"
   ]
  },
  {
   "cell_type": "markdown",
   "metadata": {},
   "source": [
    "### Setup"
   ]
  },
  {
   "cell_type": "code",
   "execution_count": null,
   "metadata": {},
   "outputs": [],
   "source": [
    "path1      = r\"D:\\Desky\\data\"\n",
    "start_date = \"2008-01-01\"\n",
    "end_date   = \"2009-12-31\"\n",
    "symbols    = [\"GOOG\"]"
   ]
  },
  {
   "cell_type": "code",
   "execution_count": null,
   "metadata": {},
   "outputs": [],
   "source": [
    "dates = pd.date_range(start_date, end_date)\n",
    "\n",
    "stockHigh = getData(symbols, dates, addSPY=False, colname=\"High\")\n",
    "stockHigh.sort_index(); \n",
    "stockHigh = stockHigh.fillna(method='ffill')\n",
    "stockHigh = stockHigh.fillna(method='bfill')\n",
    "\n",
    "stockLow = getData(symbols, dates, addSPY=False, colname=\"Low\")\n",
    "stockLow.sort_index(); \n",
    "stockLow = stockLow.fillna(method='ffill')\n",
    "stockLow = stockLow.fillna(method='bfill')\n",
    "\n",
    "stock = getData(symbols, dates, addSPY=False) #Adjusted Close\n",
    "stock = stock.sort_index()\n",
    "stock = stock.fillna(method='ffill')\n",
    "stock = stock.fillna(method='bfill')"
   ]
  },
  {
   "cell_type": "markdown",
   "metadata": {},
   "source": [
    "### Bollinger Bands"
   ]
  },
  {
   "cell_type": "code",
   "execution_count": null,
   "metadata": {},
   "outputs": [],
   "source": [
    "def bollinger_bands(stock, window=20, kconst=2):\n",
    "    stock_sma  = stock.rolling(window).mean()\n",
    "    stock_sgm  = stock.rolling(window).std()\n",
    "    stock_bbUp = stock_sma + kconst*stock_sgm\n",
    "    stock_bbDw = stock_sma - kconst*stock_sgm\n",
    "    stock_bPb  = (stock-stock_bbDw)/(stock_bbUp - stock_bbDw)\n",
    "    \n",
    "    plt.figure(1)\n",
    "    plt.subplot(3,1,1)\n",
    "    plt.plot(stock,'k-')\n",
    "    plt.title(\"Stock Prices\")\n",
    "    plt.grid(True)\n",
    "    plt.legend([\"stock\"])\n",
    "    plt.xlabel(\"Time\")\n",
    "    plt.ylabel(\"Prices\")\n",
    "    \n",
    "    plt.subplot(3,1,2)\n",
    "    plt.plot(stock,'k-')\n",
    "    plt.plot(stock_bbUp,'r-')\n",
    "    plt.plot(stock_bbDw,'b-')\n",
    "    plt.title(\"Bollinger Bands\")\n",
    "    plt.grid(True)\n",
    "    plt.legend([\"stock\",\"stock_sma+2o\",\"stock_sma-2o\"])\n",
    "    plt.xlabel(\"Time\")\n",
    "    plt.ylabel(\"Prices\")\n",
    "    \n",
    "    plt.subplot(3,1,3)\n",
    "    index = np.arange(len(stock_bPb))\n",
    "    plt.bar(index,stock_bPb[\"stock\"])\n",
    "    plt.axhline(y=1, linewidth=1, color = 'r', linestyle='--')\n",
    "    plt.axhline(y=0, linewidth=1, color = 'b', linestyle='--')    \n",
    "    plt.title(\"Bollinger Bands Percent\")\n",
    "    plt.grid(True)\n",
    "    #plt.legend([\"stock\"])\n",
    "    plt.xlabel(\"Time\")\n",
    "    plt.ylabel(\"b-Percent (b%)\")\n",
    "    \n",
    "    plt.savefig('Figure1.png', dpi=600, bbox_inches='tight')\n",
    "    return None\n"
   ]
  },
  {
   "cell_type": "markdown",
   "metadata": {},
   "source": [
    "### Moving Average Convegence Divergence"
   ]
  },
  {
   "cell_type": "code",
   "execution_count": null,
   "metadata": {},
   "outputs": [],
   "source": [
    "def macd_indicator(stock, fast_alpha=12, slow_alpha=26, sgnl_alpa=9):\n",
    "    fast12ema = stock.ewm(span=fast_alpha, min_periods=0, adjust=False, ignore_na=False).mean()\n",
    "    slow26ema = stock.ewm(span=slow_alpha, min_periods=0, adjust=False, ignore_na=False).mean()\n",
    "    macdline = fast12ema - slow26ema #blue line\n",
    "    signal   = macdline.ewm(span=sgnl_alpa, min_periods=0, adjust=False, ignore_na=False).mean() #red line\n",
    "    macdbar  = macdline - signal #bar graph\n",
    "\n",
    "    plt.figure(2)\n",
    "    plt.subplot(3,1,1)\n",
    "    plt.plot(stock,'k-')\n",
    "    plt.plot(fast12ema,'r-')\n",
    "    plt.plot(slow26ema,'b-')\n",
    "    plt.title(\"Stock Prices\")\n",
    "    plt.grid(True)\n",
    "    plt.legend([\"stock\",\"EWMA[12]\",\"EWMA[26]\"])\n",
    "    plt.xlabel(\"Time\")\n",
    "    plt.ylabel(\"Prices\")\n",
    "    \n",
    "    plt.subplot(3,1,2)\n",
    "    plt.plot(signal,'r-')\n",
    "    plt.plot(macdline,'b-')\n",
    "    plt.title(\"MACD Charts\")\n",
    "    plt.grid(True)\n",
    "    plt.legend([\"Signal\", \"MACD line\"])\n",
    "    plt.xlabel(\"Time\")\n",
    "    plt.ylabel(\"Prices\")\n",
    "    \n",
    "    plt.subplot(3,1,3)\n",
    "    index = np.arange(len(macdbar))\n",
    "    plt.bar(index, macdbar[\"stock\"].values)\n",
    "    plt.title(\"MACD Bar\")\n",
    "    plt.grid(True)\n",
    "    plt.legend([\"MACD Bar\"])\n",
    "    plt.xlabel(\"Time\")\n",
    "    plt.ylabel(\"MACD:Signal\")\n",
    "    plt.savefig('Figure2.png', dpi=600, bbox_inches='tight')\n",
    "    return None    "
   ]
  },
  {
   "cell_type": "markdown",
   "metadata": {},
   "source": [
    "### Relative Strength"
   ]
  },
  {
   "cell_type": "code",
   "execution_count": null,
   "metadata": {},
   "outputs": [],
   "source": [
    "def rsi_indicator(stock, rsi_days=14):\n",
    "    RSI_Days = rsi_days\n",
    "    rsi_change = stock.values[1:] - stock.values[:-1]\n",
    "    up_mve = rsi_change.copy()\n",
    "    dn_mve = rsi_change.copy()\n",
    "    up_mve[up_mve < 0] = 0\n",
    "    dn_mve[dn_mve > 0] = 0\n",
    "    dn_mve = np.abs(dn_mve)\n",
    "    avgup_mve = np.zeros((len(rsi_change),1))\n",
    "    avgdn_mve = np.zeros((len(rsi_change),1))\n",
    "    avgup_mve[0] = np.mean(up_mve[0:RSI_Days])\n",
    "    avgdn_mve[0] = np.mean(dn_mve[0:RSI_Days])\n",
    "    for i in range(1,len(rsi_change)):\n",
    "        avgup_mve[i] = ((RSI_Days-1)*avgup_mve[i-1] + up_mve[i])/RSI_Days\n",
    "        avgdn_mve[i] = ((RSI_Days-1)*avgdn_mve[i-1] + dn_mve[i])/RSI_Days\n",
    "    RS  = avgup_mve/avgdn_mve\n",
    "    RSI = 100 - (100/(RS + 1))\n",
    "    \n",
    "    plt.figure(3)\n",
    "    plt.subplot(2,1,1)\n",
    "    plt.plot(stock,'k-')\n",
    "    plt.title(\"Stock Prices\")\n",
    "    plt.grid(True)\n",
    "    plt.legend([\"stock\"])\n",
    "    plt.xlabel(\"Time\")\n",
    "    plt.ylabel(\"Prices\")\n",
    "    \n",
    "    plt.subplot(2,1,2)\n",
    "    plt.plot(RSI)\n",
    "    plt.axhline(y=70, linewidth=1, color = 'r', linestyle='--')\n",
    "    plt.axhline(y=30, linewidth=1, color = 'b', linestyle='--')\n",
    "    plt.title(\"RSI Indicator\")\n",
    "    plt.grid(True)\n",
    "    plt.legend([\"RSI\"])\n",
    "    plt.xlabel(\"Time\")\n",
    "    plt.ylabel(\"Indicator\")\n",
    "    plt.savefig('Figure3.png', dpi=600, bbox_inches='tight')\n",
    "    return None "
   ]
  },
  {
   "cell_type": "markdown",
   "metadata": {},
   "source": [
    "### Exponential Moving Average"
   ]
  },
  {
   "cell_type": "code",
   "execution_count": null,
   "metadata": {},
   "outputs": [],
   "source": [
    "def price_ema_indicator(stock, window=20): \n",
    "    sgnl_alpa = window\n",
    "    stock_ema  = stock.ewm(span=sgnl_alpa, min_periods=0, adjust=False, ignore_na=False).mean()\n",
    "    \n",
    "    plt.figure(4)\n",
    "    plt.plot(stock,'k-')\n",
    "    plt.plot(stock_ema,'r-')\n",
    "    plt.title(\"Stock vs EWA\")\n",
    "    plt.grid(True)\n",
    "    plt.legend([\"stock\", \"EMA[{}]\".format(window)])\n",
    "    plt.xlabel(\"Time\")\n",
    "    plt.ylabel(\"Prices vs Indicator\")\n",
    "    plt.savefig('Figure4.png', dpi=600, bbox_inches='tight')\n",
    "    return None"
   ]
  }
 ],
 "metadata": {
  "kernelspec": {
   "display_name": "Python 2",
   "language": "python",
   "name": "python2"
  },
  "language_info": {
   "codemirror_mode": {
    "name": "ipython",
    "version": 2
   },
   "file_extension": ".py",
   "mimetype": "text/x-python",
   "name": "python",
   "nbconvert_exporter": "python",
   "pygments_lexer": "ipython2",
   "version": "2.7.15"
  }
 },
 "nbformat": 4,
 "nbformat_minor": 2
}
